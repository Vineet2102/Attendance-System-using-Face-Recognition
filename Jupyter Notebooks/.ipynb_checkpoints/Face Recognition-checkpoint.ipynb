{
 "cells": [
  {
   "cell_type": "markdown",
   "id": "0ce92c09-9934-4f8e-9ad4-8f17838523d9",
   "metadata": {},
   "source": [
    "# Face Recognition"
   ]
  },
  {
   "cell_type": "code",
   "execution_count": 1,
   "id": "20351f41-0b14-4907-9f08-66444f5e625f",
   "metadata": {},
   "outputs": [],
   "source": [
    "import cv2 as cv\n",
    "import os\n",
    "import numpy as np"
   ]
  },
  {
   "cell_type": "code",
   "execution_count": 5,
   "id": "c6d9949b-c924-47e7-8aa9-fb8a63dd5b52",
   "metadata": {},
   "outputs": [],
   "source": [
    "# Defining Scale Function\n",
    "def scaleFrame(frame,scale=0.75):\n",
    "    width = int(frame.shape[1] * scale)\n",
    "    height = int(frame.shape[0] * scale)\n",
    "    dimensions =  (width,height)\n",
    "\n",
    "    return cv.resize(frame,dimensions,interpolation = cv.INTER_CUBIC)"
   ]
  },
  {
   "cell_type": "markdown",
   "id": "066998e7-9572-474a-892e-7d8fdfc8fd20",
   "metadata": {},
   "source": [
    "# Training the recognizer"
   ]
  },
  {
   "cell_type": "code",
   "execution_count": 3,
   "id": "972c8101-3a00-4863-ac81-d58d97097880",
   "metadata": {},
   "outputs": [],
   "source": [
    "def get_images_and_labels(dataset_path):\n",
    "    images = []\n",
    "    labels = []\n",
    "\n",
    "    for person_dir in os.listdir(dataset_path):\n",
    "        person_path = dataset_path+\"/\"+person_dir\n",
    "        if os.path.isdir(person_path):\n",
    "            for image_name in os.listdir(person_path):\n",
    "                image_path = person_path+\"/\"+image_name\n",
    "                image = cv.imread(image_path,cv.IMREAD_GRAYSCALE)\n",
    "                images.append(image)\n",
    "                labels.append(int(person_dir))  # Use folder name as label\n",
    "\n",
    "    return images, labels\n",
    "    \n",
    "recognizer =  cv.face.LBPHFaceRecognizer_create()\n",
    "image_paths, labels = get_images_and_labels(\"C:/Users/mohit/Programming/Jupyter Notebook/Face Recognition/Dataset\")\n",
    "# print(labels)\n",
    "recognizer.train(image_paths, np.array(labels))"
   ]
  },
  {
   "cell_type": "code",
   "execution_count": null,
   "id": "bc83ff26-3b88-43e6-906c-0c6a2f70fd94",
   "metadata": {},
   "outputs": [],
   "source": [
    "# Face Detection Using CascadeClassifier\n",
    "videoStream = cv.VideoCapture(0)\n",
    "\n",
    "while True:\n",
    "    # Capturing Frame from camera\n",
    "    isRet, frame = videoStream.read()\n",
    "\n",
    "    # Scaling Image\n",
    "    frame = scaleFrame(frame,scale=1.25)\n",
    "\n",
    "    # Converting frame to gray scale\n",
    "    gray_frame = cv.cvtColor(frame,cv.COLOR_BGR2GRAY)\n",
    "\n",
    "    # Loading face detector from opencv library\n",
    "    face_detector_frontal = cv.CascadeClassifier(cv.data.haarcascades + \"haarcascade_profileface.xml\")\n",
    "\n",
    "    # Detecting Faces\n",
    "    face_frontal = face_detector_frontal.detectMultiScale(gray_frame, minNeighbors=5, minSize=(10,10))\n",
    "\n",
    "    # Creating Box Around Face\n",
    "    for (x, y, w, h) in face_frontal:\n",
    "        face = gray_frame[y:y+h, x:x+w]\n",
    "        label,confidence = recognizer.predict(face)\n",
    "        cv.rectangle(frame, (x, y), (x + w, y + h), (0, 255, 0), 3)\n",
    "        cv.putText(frame, 'Person {}, Confidence : {}%'.format(label,round(confidence,2)), (x, y-10), cv.FONT_HERSHEY_SIMPLEX, 0.9, (0, 255, 0), 2)\n",
    "\n",
    "    # Displaying Image\n",
    "    cv.imshow(\"Face Detection\",frame)\n",
    "\n",
    "    # Checking for keyboard input to \n",
    "    if cv.waitKey(20) & 0xFF == ord('q'):\n",
    "        break\n",
    "\n",
    "\n",
    "videoStream.release()\n",
    "cv.destroyAllWindows()"
   ]
  },
  {
   "cell_type": "code",
   "execution_count": 71,
   "id": "28d26441-5d92-44fc-afe6-a8ad1b1ac7ee",
   "metadata": {
    "scrolled": true
   },
   "outputs": [
    {
     "ename": "NameError",
     "evalue": "name '__file__' is not defined",
     "output_type": "error",
     "traceback": [
      "\u001b[1;31m---------------------------------------------------------------------------\u001b[0m",
      "\u001b[1;31mNameError\u001b[0m                                 Traceback (most recent call last)",
      "Cell \u001b[1;32mIn[71], line 14\u001b[0m\n\u001b[0;32m     11\u001b[0m gray_frame \u001b[38;5;241m=\u001b[39m cv\u001b[38;5;241m.\u001b[39mcvtColor(frame,cv\u001b[38;5;241m.\u001b[39mCOLOR_BGR2GRAY)\n\u001b[0;32m     13\u001b[0m \u001b[38;5;66;03m# Loading face detector from opencv library\u001b[39;00m\n\u001b[1;32m---> 14\u001b[0m weights \u001b[38;5;241m=\u001b[39m os\u001b[38;5;241m.\u001b[39mpath\u001b[38;5;241m.\u001b[39mjoin(\u001b[38;5;18;43m__file__\u001b[39;49m, \u001b[38;5;124m\"\u001b[39m\u001b[38;5;124myunet.onnx\u001b[39m\u001b[38;5;124m\"\u001b[39m)\n\u001b[0;32m     15\u001b[0m face_detector \u001b[38;5;241m=\u001b[39m cv\u001b[38;5;241m.\u001b[39mFaceDetectorYN_create(weights, \u001b[38;5;124m\"\u001b[39m\u001b[38;5;124m\"\u001b[39m, (\u001b[38;5;241m0\u001b[39m, \u001b[38;5;241m0\u001b[39m))\n\u001b[0;32m     17\u001b[0m \u001b[38;5;66;03m#Detecting Image\u001b[39;00m\n",
      "\u001b[1;31mNameError\u001b[0m: name '__file__' is not defined"
     ]
    }
   ],
   "source": [
    "videoStream = cv.VideoCapture(0)\n",
    "\n",
    "while True:\n",
    "    # Capturing Frame from camera\n",
    "    isRet, frame = videoStream.read()\n",
    "\n",
    "    # Scaling Image\n",
    "    frame = scaleFrame(frame,scale=1.25)\n",
    "\n",
    "    # Converting frame to gray scale\n",
    "    gray_frame = cv.cvtColor(frame,cv.COLOR_BGR2GRAY)\n",
    "\n",
    "    # Loading face detector from opencv library\n",
    "    weights = os.path.join(__file__, \"yunet.onnx\")\n",
    "    face_detector = cv.FaceDetectorYN_create(weights, \"\", (0, 0))\n",
    "\n",
    "    #Detecting Image\n",
    "    height, width, _ = image.shape\n",
    "    face_detector.setInputSize((width, height))\n",
    "    _, faces = face_detector.detect(image)\n",
    "    faces = faces if faces is not None else []\n",
    "\n",
    "    #Drawing Box\n",
    "    for face in faces:\n",
    "        box = list(map(int, face[:4]))\n",
    "        color = (0, 0, 255)\n",
    "        thickness = 2\n",
    "        cv2.rectangle(image, box, color, thickness, cv.LINE_AA)\n",
    "\n",
    "        face = gray_frame[y:y+h, x:x+w]\n",
    "        label,confidence = recognizer.predict(face)\n",
    "        cv.putText(frame, 'Person {}, Confidence : {}%'.format(label,round(confidence,2)), (x, y-10), cv.FONT_HERSHEY_SIMPLEX, 0.9, (0, 255, 0), 2)\n",
    "\n",
    "\n",
    "    # Displaying Image\n",
    "    cv.imshow(\"Face Detection\",frame)\n",
    "\n",
    "    # Checking for keyboard input to \n",
    "    if cv.waitKey(20) & 0xFF == ord('q'):\n",
    "        break\n",
    "\n",
    "\n",
    "videoStream.release()\n",
    "cv.destroyAllWindows()"
   ]
  }
 ],
 "metadata": {
  "kernelspec": {
   "display_name": "Python 3 (ipykernel)",
   "language": "python",
   "name": "python3"
  },
  "language_info": {
   "codemirror_mode": {
    "name": "ipython",
    "version": 3
   },
   "file_extension": ".py",
   "mimetype": "text/x-python",
   "name": "python",
   "nbconvert_exporter": "python",
   "pygments_lexer": "ipython3",
   "version": "3.11.1"
  }
 },
 "nbformat": 4,
 "nbformat_minor": 5
}
