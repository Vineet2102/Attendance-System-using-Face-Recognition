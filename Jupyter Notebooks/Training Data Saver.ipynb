{
 "cells": [
  {
   "cell_type": "markdown",
   "id": "3b9063a7-1ec7-4944-b474-e979ff462a3c",
   "metadata": {},
   "source": [
    "# Training Data Saver"
   ]
  },
  {
   "cell_type": "code",
   "execution_count": 2,
   "id": "43929fcc-6326-4609-bba0-197ea9510e50",
   "metadata": {},
   "outputs": [],
   "source": [
    "import cv2 as cv"
   ]
  },
  {
   "cell_type": "code",
   "execution_count": 9,
   "id": "8b29f5db-bede-4520-828e-1531a18abea8",
   "metadata": {},
   "outputs": [],
   "source": [
    "label = \"725\"\n",
    "path = \"C:/Users/mohit/Programming/My_Projects/Attendance System Using Face Recognition/Dataset/\"+label+\"/\""
   ]
  },
  {
   "cell_type": "code",
   "execution_count": 10,
   "id": "bd61174b-808a-489e-9994-1bd56521fcbd",
   "metadata": {},
   "outputs": [],
   "source": [
    "# Defining Scale Function\n",
    "def scaleFrame(frame,scale=0.75):\n",
    "    width = int(frame.shape[1] * scale)\n",
    "    height = int(frame.shape[0] * scale)\n",
    "    dimensions =  (width,height)\n",
    "\n",
    "    return cv.resize(frame,dimensions,interpolation = cv.INTER_CUBIC)"
   ]
  },
  {
   "cell_type": "code",
   "execution_count": 11,
   "id": "cc029070-54ac-478a-90c3-7548d2eeb71e",
   "metadata": {},
   "outputs": [],
   "source": [
    "# Drawing box and writing label\n",
    "def faceBox(image,profile,frameNumber,x,y,width,height,label):\n",
    "    cv.rectangle(image, (x, y), (x + w, y + h), (0, 255, 0), 3)\n",
    "    cv.putText(image, 'Person {},{},{}'.format(label,profile,frameNumber), (x, y-10), cv.FONT_HERSHEY_SIMPLEX, 0.9, (0, 255, 0), 2)\n",
    "    return image"
   ]
  },
  {
   "cell_type": "code",
   "execution_count": 12,
   "id": "b3baa35a-c5da-47a1-a028-af9852381cd8",
   "metadata": {},
   "outputs": [
    {
     "name": "stdout",
     "output_type": "stream",
     "text": [
      "Data Captured Sucessfully\n"
     ]
    }
   ],
   "source": [
    "# Searching and Saving Images\n",
    "videoStream = cv.VideoCapture(0)\n",
    "frontalFrameNumber = 1\n",
    "leftFrameNumber = 1\n",
    "rightFrameNumber = 1\n",
    "\n",
    "while True:\n",
    "    # Getting frames from camers\n",
    "    isRet, frame = videoStream.read()\n",
    "\n",
    "    # Scaling Frame to Increase Size\n",
    "    frame = scaleFrame(frame,scale=1.35)\n",
    "\n",
    "    # Converting frame to gray scale\n",
    "    gray_frame = cv.cvtColor(frame,cv.COLOR_BGR2GRAY)\n",
    "\n",
    "    # Loading face detector from opencv library\n",
    "    face_detector_frontal = cv.CascadeClassifier(cv.data.haarcascades + \"haarcascade_frontalface_default.xml\")\n",
    "    face_detector_profile = cv.CascadeClassifier(cv.data.haarcascades + \"haarcascade_profileface.xml\")\n",
    "\n",
    "    # Detecting Faces\n",
    "    face_frontal = face_detector_frontal.detectMultiScale(gray_frame, minNeighbors=10, minSize=(30,30))\n",
    "    face_profile = face_detector_profile.detectMultiScale(gray_frame, minNeighbors=10, minSize=(30,30))\n",
    "\n",
    "    # Creating Box Around Face and Saving Image\n",
    "    if len(face_frontal) == 1:\n",
    "        for (x, y, w, h) in face_frontal:\n",
    "            face = gray_frame[y:y+h, x:x+w]\n",
    "            if frontalFrameNumber <= 50:\n",
    "                cv.imwrite(path+\"Image_Frontal_\"+str(frontalFrameNumber)+\".jpg\",face)\n",
    "                frontalFrameNumber += 1\n",
    "            frame = faceBox(frame,\"Front\",frontalFrameNumber,x,y,w,h,label)\n",
    "    if len(face_profile) == 1:\n",
    "        for (x, y, w, h) in face_profile:\n",
    "            face = gray_frame[y:y+h, x:x+w]\n",
    "            if leftFrameNumber <= 50:\n",
    "                cv.imwrite(path+\"Image_LeftProfile_\"+str(leftFrameNumber)+\".jpg\",face)\n",
    "                leftFrameNumber += 1\n",
    "            frame = faceBox(frame,\"Left\",leftFrameNumber,x,y,w,h,label)\n",
    "    else:\n",
    "        gray_frame = cv.flip(gray_frame,1)\n",
    "        face_profile = face_detector_profile.detectMultiScale(gray_frame, minNeighbors=10, minSize=(30,30))\n",
    "        if len(face_profile) == 1:\n",
    "            for (x, y, w, h) in face_profile:\n",
    "                face = gray_frame[y:y+h, x:x+w]\n",
    "                face = cv.flip(face,1)\n",
    "                if rightFrameNumber <= 50:\n",
    "                    cv.imwrite(path+\"Image_RightProfile_\"+str(rightFrameNumber)+\".jpg\",face)\n",
    "                    rightFrameNumber += 1\n",
    "                height,width = frame.shape[:2]\n",
    "                frame = faceBox(frame,\"Right\",rightFrameNumber,width-x-w,y,w,h,label)\n",
    "                \n",
    "    # Displaying Image\n",
    "    cv.imshow(\"Saving Training Data\",frame)\n",
    "\n",
    "    # Checking for keyboard input to \n",
    "    if cv.waitKey(10) & 0xFF == ord('q'):\n",
    "        break\n",
    "    if frontalFrameNumber > 50 and leftFrameNumber > 50 and rightFrameNumber > 50:\n",
    "        break\n",
    "\n",
    "videoStream.release()\n",
    "cv.destroyAllWindows()\n",
    "print(\"Data Captured Sucessfully\")"
   ]
  }
 ],
 "metadata": {
  "kernelspec": {
   "display_name": "Python 3 (ipykernel)",
   "language": "python",
   "name": "python3"
  },
  "language_info": {
   "codemirror_mode": {
    "name": "ipython",
    "version": 3
   },
   "file_extension": ".py",
   "mimetype": "text/x-python",
   "name": "python",
   "nbconvert_exporter": "python",
   "pygments_lexer": "ipython3",
   "version": "3.11.1"
  }
 },
 "nbformat": 4,
 "nbformat_minor": 5
}
